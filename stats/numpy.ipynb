{
 "cells": [
  {
   "cell_type": "markdown",
   "id": "65ff0dd7-9d73-41ec-98d8-0f294294c214",
   "metadata": {},
   "source": [
    "# NumPy"
   ]
  },
  {
   "cell_type": "code",
   "execution_count": 1,
   "id": "11e1eb42-5e05-4a32-a564-a7cb2669cbba",
   "metadata": {},
   "outputs": [],
   "source": [
    "import numpy as np"
   ]
  },
  {
   "cell_type": "code",
   "execution_count": 2,
   "id": "32a83081-b877-4864-a14e-e95bd552faad",
   "metadata": {},
   "outputs": [],
   "source": [
    "a = np.array([1, 2, 3, 4, 5, 6])"
   ]
  },
  {
   "cell_type": "code",
   "execution_count": 3,
   "id": "2e24f27f-f7b9-4334-8cd1-a373b02b287c",
   "metadata": {},
   "outputs": [
    {
     "data": {
      "text/plain": [
       "dtype('int64')"
      ]
     },
     "execution_count": 3,
     "metadata": {},
     "output_type": "execute_result"
    }
   ],
   "source": [
    "a.dtype"
   ]
  },
  {
   "cell_type": "code",
   "execution_count": 4,
   "id": "0acdfd3b-1e20-482b-b466-7cb0f6f2ae26",
   "metadata": {},
   "outputs": [
    {
     "data": {
      "text/plain": [
       "1"
      ]
     },
     "execution_count": 4,
     "metadata": {},
     "output_type": "execute_result"
    }
   ],
   "source": [
    "a.ndim"
   ]
  },
  {
   "cell_type": "code",
   "execution_count": 5,
   "id": "5d2c5111-7d64-4689-83ec-11f0e9947b66",
   "metadata": {},
   "outputs": [],
   "source": [
    "b = np.array([[1, 2], [3, 4]])"
   ]
  },
  {
   "cell_type": "code",
   "execution_count": 6,
   "id": "4788e5ff-f4d6-48cc-b006-21cbdf8e242b",
   "metadata": {},
   "outputs": [
    {
     "data": {
      "text/plain": [
       "2"
      ]
     },
     "execution_count": 6,
     "metadata": {},
     "output_type": "execute_result"
    }
   ],
   "source": [
    "b.ndim"
   ]
  },
  {
   "cell_type": "code",
   "execution_count": 7,
   "id": "0533be3a-fdf4-476f-9ba5-193acede89b5",
   "metadata": {},
   "outputs": [
    {
     "data": {
      "text/plain": [
       "(2, 2)"
      ]
     },
     "execution_count": 7,
     "metadata": {},
     "output_type": "execute_result"
    }
   ],
   "source": [
    "b.shape"
   ]
  },
  {
   "cell_type": "code",
   "execution_count": 8,
   "id": "eac8c2e5-7505-46b0-9a87-70f810c04295",
   "metadata": {},
   "outputs": [
    {
     "data": {
      "text/plain": [
       "4"
      ]
     },
     "execution_count": 8,
     "metadata": {},
     "output_type": "execute_result"
    }
   ],
   "source": [
    "b.size"
   ]
  },
  {
   "cell_type": "code",
   "execution_count": 9,
   "id": "0400e7ed-b102-46b4-86b4-a6edeaf08075",
   "metadata": {},
   "outputs": [
    {
     "data": {
      "text/plain": [
       "32"
      ]
     },
     "execution_count": 9,
     "metadata": {},
     "output_type": "execute_result"
    }
   ],
   "source": [
    "b.nbytes"
   ]
  },
  {
   "cell_type": "code",
   "execution_count": 10,
   "id": "907dfc64-5b8b-484c-bcb8-48a330aec1af",
   "metadata": {},
   "outputs": [
    {
     "data": {
      "text/plain": [
       "array([   0,    1,    4,    9,   16,   25,   36,   49,   64,   81,  100,\n",
       "        121,  144,  169,  196,  225,  256,  289,  324,  361,  400,  441,\n",
       "        484,  529,  576,  625,  676,  729,  784,  841,  900,  961, 1024,\n",
       "       1089, 1156, 1225, 1296, 1369, 1444, 1521, 1600, 1681, 1764, 1849,\n",
       "       1936, 2025, 2116, 2209, 2304, 2401, 2500, 2601, 2704, 2809, 2916,\n",
       "       3025, 3136, 3249, 3364, 3481, 3600, 3721, 3844, 3969, 4096, 4225,\n",
       "       4356, 4489, 4624, 4761, 4900, 5041, 5184, 5329, 5476, 5625, 5776,\n",
       "       5929, 6084, 6241, 6400, 6561, 6724, 6889, 7056, 7225, 7396, 7569,\n",
       "       7744, 7921, 8100, 8281, 8464, 8649, 8836, 9025, 9216, 9409, 9604,\n",
       "       9801])"
      ]
     },
     "execution_count": 10,
     "metadata": {},
     "output_type": "execute_result"
    }
   ],
   "source": [
    "def square(n):\n",
    "    return n * n\n",
    "\n",
    "np.array(list(map(square, np.arange(100))))"
   ]
  },
  {
   "cell_type": "code",
   "execution_count": 11,
   "id": "81b14a7d-4ee9-4240-b533-ea3929e08222",
   "metadata": {},
   "outputs": [
    {
     "data": {
      "text/plain": [
       "array([ 10,  12,  14,  16,  18,  20,  22,  24,  26,  28,  30,  32,  34,\n",
       "        36,  38,  40,  42,  44,  46,  48,  50,  52,  54,  56,  58,  60,\n",
       "        62,  64,  66,  68,  70,  72,  74,  76,  78,  80,  82,  84,  86,\n",
       "        88,  90,  92,  94,  96,  98, 100])"
      ]
     },
     "execution_count": 11,
     "metadata": {},
     "output_type": "execute_result"
    }
   ],
   "source": [
    "np.arange(10, 101, 2)"
   ]
  },
  {
   "cell_type": "code",
   "execution_count": 12,
   "id": "44583090-c16a-4f9c-98f0-1e51fd9b5105",
   "metadata": {},
   "outputs": [
    {
     "data": {
      "text/plain": [
       "array([10,  7,  1,  4])"
      ]
     },
     "execution_count": 12,
     "metadata": {},
     "output_type": "execute_result"
    }
   ],
   "source": [
    "np.random.permutation(range(1, 11, 3))"
   ]
  },
  {
   "cell_type": "code",
   "execution_count": 13,
   "id": "dce7371b-f911-4977-9eb0-8bfaab66625d",
   "metadata": {},
   "outputs": [
    {
     "data": {
      "text/plain": [
       "array([[0.78543221, 0.86408632, 0.99531235],\n",
       "       [0.16014694, 0.50064436, 0.8088559 ],\n",
       "       [0.9175803 , 0.69393405, 0.65534727]])"
      ]
     },
     "execution_count": 13,
     "metadata": {},
     "output_type": "execute_result"
    }
   ],
   "source": [
    "np.random.rand(3, 3)"
   ]
  },
  {
   "cell_type": "code",
   "execution_count": 14,
   "id": "326d27f4-d1fe-4354-8ebf-1b61275fb255",
   "metadata": {},
   "outputs": [
    {
     "data": {
      "text/plain": [
       "array([8.35063545e-01, 2.31439695e-01, 8.79315504e-01, 2.36872060e-01,\n",
       "       3.06962228e-01, 2.14744573e-01, 6.99802084e-01, 4.96016553e-01,\n",
       "       9.21552210e-01, 6.09230407e-01, 6.04372637e-01, 9.45414834e-01,\n",
       "       3.08620529e-01, 4.49611261e-01, 3.74252874e-01, 5.65954291e-01,\n",
       "       5.36667016e-01, 6.09452863e-01, 9.02009649e-01, 5.30013813e-01,\n",
       "       7.35745367e-01, 7.57908871e-02, 2.76920457e-01, 2.18952158e-01,\n",
       "       8.70781340e-01, 8.06090920e-01, 6.24377658e-02, 5.94470231e-02,\n",
       "       1.22953913e-01, 7.31660943e-01, 7.68863597e-01, 3.58420430e-01,\n",
       "       3.57685833e-01, 7.99295831e-01, 1.43516012e-01, 9.40266435e-01,\n",
       "       2.76540839e-01, 6.44792405e-01, 2.03581179e-01, 5.95699761e-01,\n",
       "       7.78846255e-01, 4.04757887e-01, 2.71473445e-01, 7.54280982e-01,\n",
       "       9.06593879e-01, 2.25659314e-01, 5.16032221e-02, 1.89193660e-01,\n",
       "       4.03733533e-01, 2.21366137e-01, 5.37631897e-02, 3.98929847e-01,\n",
       "       4.55826235e-01, 9.83703193e-02, 3.37143965e-02, 6.95314905e-01,\n",
       "       8.06281042e-01, 1.50062434e-01, 1.57997925e-01, 1.26257547e-01,\n",
       "       1.77248993e-01, 7.91517027e-01, 2.95834860e-01, 5.79168007e-01,\n",
       "       9.25397877e-01, 6.35529165e-01, 7.37079229e-01, 2.93847640e-01,\n",
       "       3.89561766e-01, 5.51969028e-01, 6.85026081e-01, 9.60062638e-01,\n",
       "       5.77298140e-01, 3.57001858e-01, 5.08383070e-01, 3.65447598e-01,\n",
       "       5.00084885e-01, 7.99475928e-01, 7.80282542e-01, 8.19155560e-01,\n",
       "       9.38989154e-01, 9.21112982e-01, 3.86257059e-01, 1.97405697e-04,\n",
       "       2.04661719e-01, 2.71379008e-01, 8.83285385e-01, 3.62480364e-01,\n",
       "       1.52640405e-02, 2.16625976e-01, 5.69351979e-01, 7.59408845e-01,\n",
       "       6.26581562e-01, 6.37732969e-01, 6.19639605e-01, 1.25222483e-01,\n",
       "       2.11087093e-01, 2.80248247e-02, 8.67357286e-01, 3.44870565e-01])"
      ]
     },
     "execution_count": 14,
     "metadata": {},
     "output_type": "execute_result"
    }
   ],
   "source": [
    "np.random.rand(100)"
   ]
  },
  {
   "cell_type": "code",
   "execution_count": 15,
   "id": "618c1ecd-9e64-4659-a7f7-1d5c32169f40",
   "metadata": {},
   "outputs": [
    {
     "data": {
      "text/plain": [
       "(array([ 7.,  7.,  6.,  5., 13., 10.,  6., 12.,  8., 10., 12., 16., 10.,\n",
       "         7., 17., 12., 16., 11.,  6., 11.,  2., 11.,  9.,  8., 10.,  9.,\n",
       "         7.,  9.,  7.,  9., 12.,  9.,  7., 12., 12., 12., 13.,  7.,  4.,\n",
       "        10.,  9.,  5.,  7., 12., 14., 13., 10.,  4.,  6.,  9., 11., 12.,\n",
       "         4.,  8.,  9., 11., 11.,  6., 18., 11., 13.,  8., 15., 14.,  7.,\n",
       "        15., 15., 13., 10., 10.,  7., 10.,  8., 11., 15.,  7., 14.,  4.,\n",
       "         6., 12., 10.,  9., 11.,  6., 15., 12.,  9.,  8.,  9.,  9., 11.,\n",
       "        18., 14.,  5., 11., 13., 13., 12.,  5., 15.]),\n",
       " array([0.00148012, 0.01146484, 0.02144957, 0.0314343 , 0.04141903,\n",
       "        0.05140376, 0.06138848, 0.07137321, 0.08135794, 0.09134267,\n",
       "        0.1013274 , 0.11131213, 0.12129685, 0.13128158, 0.14126631,\n",
       "        0.15125104, 0.16123577, 0.17122049, 0.18120522, 0.19118995,\n",
       "        0.20117468, 0.21115941, 0.22114414, 0.23112886, 0.24111359,\n",
       "        0.25109832, 0.26108305, 0.27106778, 0.2810525 , 0.29103723,\n",
       "        0.30102196, 0.31100669, 0.32099142, 0.33097615, 0.34096087,\n",
       "        0.3509456 , 0.36093033, 0.37091506, 0.38089979, 0.39088452,\n",
       "        0.40086924, 0.41085397, 0.4208387 , 0.43082343, 0.44080816,\n",
       "        0.45079288, 0.46077761, 0.47076234, 0.48074707, 0.4907318 ,\n",
       "        0.50071653, 0.51070125, 0.52068598, 0.53067071, 0.54065544,\n",
       "        0.55064017, 0.56062489, 0.57060962, 0.58059435, 0.59057908,\n",
       "        0.60056381, 0.61054854, 0.62053326, 0.63051799, 0.64050272,\n",
       "        0.65048745, 0.66047218, 0.67045691, 0.68044163, 0.69042636,\n",
       "        0.70041109, 0.71039582, 0.72038055, 0.73036527, 0.74035   ,\n",
       "        0.75033473, 0.76031946, 0.77030419, 0.78028892, 0.79027364,\n",
       "        0.80025837, 0.8102431 , 0.82022783, 0.83021256, 0.84019728,\n",
       "        0.85018201, 0.86016674, 0.87015147, 0.8801362 , 0.89012093,\n",
       "        0.90010565, 0.91009038, 0.92007511, 0.93005984, 0.94004457,\n",
       "        0.95002929, 0.96001402, 0.96999875, 0.97998348, 0.98996821,\n",
       "        0.99995294]),\n",
       " <BarContainer object of 100 artists>)"
      ]
     },
     "execution_count": 15,
     "metadata": {},
     "output_type": "execute_result"
    },
    {
     "data": {
      "image/png": "[encoded data removed]",
      "text/plain": [
       "<Figure size 432x288 with 1 Axes>"
      ]
     },
     "metadata": {
      "needs_background": "light"
     },
     "output_type": "display_data"
    }
   ],
   "source": [
    "import matplotlib.pyplot as plt\n",
    "plt.hist(np.random.rand(1000), bins=100)"
   ]
  },
  {
   "cell_type": "code",
   "execution_count": 16,
   "id": "7d6bf677-bbaf-4a80-a57f-062811109e5b",
   "metadata": {},
   "outputs": [
    {
     "data": {
      "text/plain": [
       "(array([  1.,   0.,   0.,   0.,   0.,   0.,   0.,   1.,   0.,   2.,   0.,\n",
       "          2.,   0.,   0.,   0.,   2.,   1.,   2.,   0.,   1.,   1.,   0.,\n",
       "          1.,   1.,   1.,   5.,   2.,   2.,   5.,   2.,   0.,   5.,   4.,\n",
       "          5.,  10.,   5.,   5.,   5.,   7.,   5.,  11.,  13.,  12.,  11.,\n",
       "         17.,  14.,   7.,  14.,  18.,  22.,  23.,  19.,  34.,  24.,  33.,\n",
       "         26.,  23.,  36.,  36.,  35.,  47.,  45.,  54.,  42.,  45.,  52.,\n",
       "         55.,  64.,  62.,  50.,  54.,  76.,  74.,  75.,  69.,  78., 113.,\n",
       "        104.,  99., 107., 112., 102., 120., 120.,  99., 113., 134., 123.,\n",
       "        128., 119., 149., 131., 135., 146., 135., 127., 149., 137., 152.,\n",
       "        169., 161., 158., 156., 132., 154., 141., 160., 148., 165., 160.,\n",
       "        164., 155., 129., 138., 122., 153., 127., 127., 127., 122., 129.,\n",
       "        140., 125., 120., 122., 105., 108.,  88.,  91.,  94.,  92.,  96.,\n",
       "         84.,  66.,  76.,  70.,  81.,  73.,  53.,  58.,  55.,  60.,  38.,\n",
       "         49.,  40.,  38.,  51.,  40.,  32.,  27.,  20.,  22.,  21.,  17.,\n",
       "         22.,  14.,  13.,  19.,  16.,  21.,  15.,   8.,  13.,  13.,   9.,\n",
       "          5.,   9.,   2.,   6.,   8.,   5.,   4.,   6.,   3.,   5.,   1.,\n",
       "          4.,   1.,   2.,   2.,   2.,   4.,   3.,   0.,   1.,   0.,   2.,\n",
       "          0.,   3.,   1.,   0.,   0.,   0.,   0.,   1.,   0.,   0.,   0.,\n",
       "          0.,   1.]),\n",
       " array([-3.91616082e+00, -3.87811181e+00, -3.84006281e+00, -3.80201381e+00,\n",
       "        -3.76396480e+00, -3.72591580e+00, -3.68786680e+00, -3.64981780e+00,\n",
       "        -3.61176879e+00, -3.57371979e+00, -3.53567079e+00, -3.49762178e+00,\n",
       "        -3.45957278e+00, -3.42152378e+00, -3.38347477e+00, -3.34542577e+00,\n",
       "        -3.30737677e+00, -3.26932777e+00, -3.23127876e+00, -3.19322976e+00,\n",
       "        -3.15518076e+00, -3.11713175e+00, -3.07908275e+00, -3.04103375e+00,\n",
       "        -3.00298474e+00, -2.96493574e+00, -2.92688674e+00, -2.88883773e+00,\n",
       "        -2.85078873e+00, -2.81273973e+00, -2.77469073e+00, -2.73664172e+00,\n",
       "        -2.69859272e+00, -2.66054372e+00, -2.62249471e+00, -2.58444571e+00,\n",
       "        -2.54639671e+00, -2.50834770e+00, -2.47029870e+00, -2.43224970e+00,\n",
       "        -2.39420070e+00, -2.35615169e+00, -2.31810269e+00, -2.28005369e+00,\n",
       "        -2.24200468e+00, -2.20395568e+00, -2.16590668e+00, -2.12785767e+00,\n",
       "        -2.08980867e+00, -2.05175967e+00, -2.01371066e+00, -1.97566166e+00,\n",
       "        -1.93761266e+00, -1.89956366e+00, -1.86151465e+00, -1.82346565e+00,\n",
       "        -1.78541665e+00, -1.74736764e+00, -1.70931864e+00, -1.67126964e+00,\n",
       "        -1.63322063e+00, -1.59517163e+00, -1.55712263e+00, -1.51907363e+00,\n",
       "        -1.48102462e+00, -1.44297562e+00, -1.40492662e+00, -1.36687761e+00,\n",
       "        -1.32882861e+00, -1.29077961e+00, -1.25273060e+00, -1.21468160e+00,\n",
       "        -1.17663260e+00, -1.13858360e+00, -1.10053459e+00, -1.06248559e+00,\n",
       "        -1.02443659e+00, -9.86387583e-01, -9.48338580e-01, -9.10289577e-01,\n",
       "        -8.72240574e-01, -8.34191571e-01, -7.96142568e-01, -7.58093565e-01,\n",
       "        -7.20044562e-01, -6.81995559e-01, -6.43946555e-01, -6.05897552e-01,\n",
       "        -5.67848549e-01, -5.29799546e-01, -4.91750543e-01, -4.53701540e-01,\n",
       "        -4.15652537e-01, -3.77603534e-01, -3.39554531e-01, -3.01505528e-01,\n",
       "        -2.63456525e-01, -2.25407522e-01, -1.87358519e-01, -1.49309516e-01,\n",
       "        -1.11260513e-01, -7.32115099e-02, -3.51625068e-02,  2.88649620e-03,\n",
       "         4.09354992e-02,  7.89845023e-02,  1.17033505e-01,  1.55082508e-01,\n",
       "         1.93131511e-01,  2.31180514e-01,  2.69229517e-01,  3.07278521e-01,\n",
       "         3.45327524e-01,  3.83376527e-01,  4.21425530e-01,  4.59474533e-01,\n",
       "         4.97523536e-01,  5.35572539e-01,  5.73621542e-01,  6.11670545e-01,\n",
       "         6.49719548e-01,  6.87768551e-01,  7.25817554e-01,  7.63866557e-01,\n",
       "         8.01915560e-01,  8.39964563e-01,  8.78013566e-01,  9.16062569e-01,\n",
       "         9.54111572e-01,  9.92160575e-01,  1.03020958e+00,  1.06825858e+00,\n",
       "         1.10630758e+00,  1.14435659e+00,  1.18240559e+00,  1.22045459e+00,\n",
       "         1.25850360e+00,  1.29655260e+00,  1.33460160e+00,  1.37265061e+00,\n",
       "         1.41069961e+00,  1.44874861e+00,  1.48679761e+00,  1.52484662e+00,\n",
       "         1.56289562e+00,  1.60094462e+00,  1.63899363e+00,  1.67704263e+00,\n",
       "         1.71509163e+00,  1.75314064e+00,  1.79118964e+00,  1.82923864e+00,\n",
       "         1.86728765e+00,  1.90533665e+00,  1.94338565e+00,  1.98143465e+00,\n",
       "         2.01948366e+00,  2.05753266e+00,  2.09558166e+00,  2.13363067e+00,\n",
       "         2.17167967e+00,  2.20972867e+00,  2.24777768e+00,  2.28582668e+00,\n",
       "         2.32387568e+00,  2.36192468e+00,  2.39997369e+00,  2.43802269e+00,\n",
       "         2.47607169e+00,  2.51412070e+00,  2.55216970e+00,  2.59021870e+00,\n",
       "         2.62826771e+00,  2.66631671e+00,  2.70436571e+00,  2.74241472e+00,\n",
       "         2.78046372e+00,  2.81851272e+00,  2.85656172e+00,  2.89461073e+00,\n",
       "         2.93265973e+00,  2.97070873e+00,  3.00875774e+00,  3.04680674e+00,\n",
       "         3.08485574e+00,  3.12290475e+00,  3.16095375e+00,  3.19900275e+00,\n",
       "         3.23705175e+00,  3.27510076e+00,  3.31314976e+00,  3.35119876e+00,\n",
       "         3.38924777e+00,  3.42729677e+00,  3.46534577e+00,  3.50339478e+00,\n",
       "         3.54144378e+00,  3.57949278e+00,  3.61754179e+00,  3.65559079e+00,\n",
       "         3.69363979e+00]),\n",
       " <BarContainer object of 200 artists>)"
      ]
     },
     "execution_count": 16,
     "metadata": {},
     "output_type": "execute_result"
    },
    {
     "data": {
      "image/png": "[encoded data removed]",
      "text/plain": [
       "<Figure size 432x288 with 1 Axes>"
      ]
     },
     "metadata": {
      "needs_background": "light"
     },
     "output_type": "display_data"
    }
   ],
   "source": [
    "plt.hist(np.random.randn(10000), bins=200)"
   ]
  },
  {
   "cell_type": "code",
   "execution_count": 17,
   "id": "19606f0a-7b68-47ce-922b-8a39011744a1",
   "metadata": {},
   "outputs": [
    {
     "data": {
      "text/plain": [
       "array([[ 0,  1,  2,  3,  4,  5,  6,  7,  8,  9, 10, 11, 12, 13, 14, 15,\n",
       "        16, 17, 18, 19, 20, 21, 22, 23, 24, 25, 26, 27, 28, 29, 30, 31,\n",
       "        32, 33, 34, 35, 36, 37, 38, 39, 40, 41, 42, 43, 44, 45, 46, 47,\n",
       "        48, 49],\n",
       "       [50, 51, 52, 53, 54, 55, 56, 57, 58, 59, 60, 61, 62, 63, 64, 65,\n",
       "        66, 67, 68, 69, 70, 71, 72, 73, 74, 75, 76, 77, 78, 79, 80, 81,\n",
       "        82, 83, 84, 85, 86, 87, 88, 89, 90, 91, 92, 93, 94, 95, 96, 97,\n",
       "        98, 99]])"
      ]
     },
     "execution_count": 17,
     "metadata": {},
     "output_type": "execute_result"
    }
   ],
   "source": [
    "np.arange(100).reshape(2,50)"
   ]
  },
  {
   "cell_type": "code",
   "execution_count": 18,
   "id": "1ee67c80-8237-4e79-b8bc-dff4d3daad4b",
   "metadata": {},
   "outputs": [
    {
     "data": {
      "text/plain": [
       "array([0, 0, 0, 0, 0, 0, 0, 0, 0, 0, 0, 0, 0, 0, 0, 0, 0, 0, 0, 0, 0, 0,\n",
       "       0, 0, 0, 0, 0, 0, 0, 0, 0, 0, 0, 0, 0, 0, 0, 0, 0, 0, 0, 0, 0, 0,\n",
       "       0, 0, 0, 0, 0, 0, 0, 0, 0, 0, 0, 0, 0, 0, 0, 0, 0, 0, 0, 0, 0, 0,\n",
       "       0, 0, 0, 0, 0, 0, 0, 0, 0, 0, 0, 0, 0, 0, 0, 0, 0, 0, 0, 0, 0, 0,\n",
       "       0, 0, 0, 0, 0, 0, 0, 0, 0, 0, 0, 0])"
      ]
     },
     "execution_count": 18,
     "metadata": {},
     "output_type": "execute_result"
    }
   ],
   "source": [
    "np.zeros(100, dtype=int)"
   ]
  },
  {
   "cell_type": "code",
   "execution_count": 19,
   "id": "24f0e5ea-44bb-4452-bd68-68790facfb42",
   "metadata": {},
   "outputs": [
    {
     "data": {
      "text/plain": [
       "array([1, 1, 1, 1, 1, 1, 1, 1, 1, 1, 1, 1, 1, 1, 1, 1, 1, 1, 1, 1, 1, 1,\n",
       "       1, 1, 1, 1, 1, 1, 1, 1, 1, 1, 1, 1, 1, 1, 1, 1, 1, 1, 1, 1, 1, 1,\n",
       "       1, 1, 1, 1, 1, 1, 1, 1, 1, 1, 1, 1, 1, 1, 1, 1, 1, 1, 1, 1, 1, 1,\n",
       "       1, 1, 1, 1, 1, 1, 1, 1, 1, 1, 1, 1, 1, 1, 1, 1, 1, 1, 1, 1, 1, 1,\n",
       "       1, 1, 1, 1, 1, 1, 1, 1, 1, 1, 1, 1])"
      ]
     },
     "execution_count": 19,
     "metadata": {},
     "output_type": "execute_result"
    }
   ],
   "source": [
    "np.ones(100, dtype=int)"
   ]
  },
  {
   "cell_type": "code",
   "execution_count": 20,
   "id": "618d0eb0-9995-4a4e-aa5a-c23da895f454",
   "metadata": {},
   "outputs": [],
   "source": [
    "A = np.arange(100)"
   ]
  },
  {
   "cell_type": "code",
   "execution_count": 21,
   "id": "d681585e-9204-4202-9a0c-69e273b3790f",
   "metadata": {},
   "outputs": [],
   "source": [
    "B = A[10:20]"
   ]
  },
  {
   "cell_type": "code",
   "execution_count": 22,
   "id": "d46af1ac-3f88-4d8b-80f6-19ed9d521c9d",
   "metadata": {},
   "outputs": [],
   "source": [
    "C = A[10:20].copy()"
   ]
  },
  {
   "cell_type": "code",
   "execution_count": 23,
   "id": "46474eb7-4ff1-476b-aa6f-4b435cd7bc71",
   "metadata": {},
   "outputs": [
    {
     "data": {
      "text/plain": [
       "array([[4, 5, 3],\n",
       "       [6, 5, 4],\n",
       "       [6, 9, 3]], dtype=int32)"
      ]
     },
     "execution_count": 23,
     "metadata": {},
     "output_type": "execute_result"
    }
   ],
   "source": [
    "np.int32(10 * np.random.rand(3,3))"
   ]
  },
  {
   "cell_type": "code",
   "execution_count": 24,
   "id": "a92f971f-de67-4469-8ffd-1c5cbf4d0723",
   "metadata": {},
   "outputs": [
    {
     "name": "stdout",
     "output_type": "stream",
     "text": [
      "73 ms ± 3.73 ms per loop (mean ± std. dev. of 7 runs, 10 loops each)\n",
      "469 µs ± 96.2 µs per loop (mean ± std. dev. of 7 runs, 1,000 loops each)\n"
     ]
    }
   ],
   "source": [
    "rand = np.random.rand(1000000)\n",
    "%timeit sum(rand)\n",
    "%timeit np.sum(rand)"
   ]
  },
  {
   "cell_type": "code",
   "execution_count": 25,
   "id": "beeb8114-c9a7-4af0-861c-a5714a46d0d4",
   "metadata": {},
   "outputs": [],
   "source": [
    "def mySum(input):\n",
    "    sum = 0\n",
    "    for element in input:\n",
    "        sum += element\n",
    "    return sum"
   ]
  },
  {
   "cell_type": "code",
   "execution_count": 26,
   "id": "827c28f0-fbf3-4d5a-9ab5-c3b3c037c648",
   "metadata": {},
   "outputs": [
    {
     "name": "stdout",
     "output_type": "stream",
     "text": [
      "83.1 ms ± 2.21 ms per loop (mean ± std. dev. of 7 runs, 10 loops each)\n"
     ]
    }
   ],
   "source": [
    "%timeit mySum(rand)"
   ]
  },
  {
   "cell_type": "code",
   "execution_count": null,
   "id": "9f1e5424",
   "metadata": {},
   "outputs": [],
   "source": []
  }
 ],
 "metadata": {
  "interpreter": {
   "hash": "1a7854de1ac03914391af317b61dba7cebf3fe5ee4803c86fc125cce7da183f4"
  },
  "kernelspec": {
   "display_name": "Python 3.10.2 ('.env': venv)",
   "language": "python",
   "name": "python3"
  },
  "language_info": {
   "codemirror_mode": {
    "name": "ipython",
    "version": 3
   },
   "file_extension": ".py",
   "mimetype": "text/x-python",
   "name": "python",
   "nbconvert_exporter": "python",
   "pygments_lexer": "ipython3",
   "version": "3.10.2"
  }
 },
 "nbformat": 4,
 "nbformat_minor": 5
}
